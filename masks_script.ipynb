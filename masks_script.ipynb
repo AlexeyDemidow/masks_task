{
 "cells": [
  {
   "cell_type": "code",
   "execution_count": 4,
   "metadata": {
    "collapsed": true,
    "pycharm": {
     "name": "#%%\n"
    }
   },
   "outputs": [],
   "source": [
    "import xml.etree.ElementTree as ET\n",
    "from PIL import Image, ImageDraw\n",
    "import os\n",
    "from tqdm import tqdm"
   ]
  },
  {
   "cell_type": "code",
   "execution_count": 5,
   "outputs": [],
   "source": [
    "tree = ET.parse('Задание2/masks.xml')\n",
    "root = tree.getroot()\n",
    "\n",
    "result_masks_directory = 'result/masks/'\n",
    "result_photos_directory = 'result/images/'"
   ],
   "metadata": {
    "collapsed": false,
    "pycharm": {
     "name": "#%%\n"
    }
   }
  },
  {
   "cell_type": "code",
   "execution_count": 6,
   "outputs": [
    {
     "name": "stderr",
     "output_type": "stream",
     "text": [
      "100%|██████████| 8/8 [00:21<00:00,  2.72s/it]\n"
     ]
    }
   ],
   "source": [
    "image_list = []\n",
    "for elem in root.findall('image'):\n",
    "    image_list.append(elem)\n",
    "\n",
    "for i in tqdm(range(len(image_list))):\n",
    "    picture = f'Задание2/images/{image_list[i].get(\"name\").split(\"/\")[-1]}'\n",
    "\n",
    "    with Image.open(picture) as mask_img:\n",
    "        mask_img.load()\n",
    "        draw = ImageDraw.Draw(mask_img)\n",
    "        mask_img.convert('RGBA')\n",
    "        mask_img.putalpha(0)\n",
    "        for item in range(len(image_list[i])):\n",
    "            subelem = image_list[i][item]\n",
    "            if subelem.get('label') != 'Ignore':\n",
    "                points = subelem.get('points').split(';')\n",
    "                points = [(float(x), float(y)) for x, y in (point.split(',') for point in points)]\n",
    "                draw.polygon(points, fill='magenta')\n",
    "            else:\n",
    "                points = subelem.get('points').split(';')\n",
    "                points = [(float(x), float(y)) for x, y in (point.split(',') for point in points)]\n",
    "                draw.polygon(points, fill='black')\n",
    "            if not os.path.exists(result_masks_directory):\n",
    "                os.makedirs(result_masks_directory)\n",
    "            mask_img.save(f'{result_masks_directory}mask_{image_list[i].get(\"name\").split(\"/\")[-1]}.png')\n",
    "\n",
    "    with Image.open(picture) as photo:\n",
    "        photo.load()\n",
    "        mask_img = mask_img.convert('RGBA')\n",
    "        black_pixels = mask_img.load()\n",
    "        width, height = mask_img.size\n",
    "        for y in range(height):\n",
    "            for x in range(width):\n",
    "                if black_pixels[x, y] == (0, 0, 0, 255):\n",
    "                    black_pixels[x, y] = (0, 0, 0, 0)\n",
    "        photo.paste(mask_img, (0, 0), mask_img)\n",
    "        if not os.path.exists(result_photos_directory):\n",
    "            os.makedirs(result_photos_directory)\n",
    "        photo.save(f'{result_photos_directory}photo_{image_list[i].get(\"name\").split(\"/\")[-1]}.png')"
   ],
   "metadata": {
    "collapsed": false,
    "pycharm": {
     "name": "#%%\n"
    }
   }
  }
 ],
 "metadata": {
  "kernelspec": {
   "display_name": "Python 3",
   "language": "python",
   "name": "python3"
  },
  "language_info": {
   "codemirror_mode": {
    "name": "ipython",
    "version": 2
   },
   "file_extension": ".py",
   "mimetype": "text/x-python",
   "name": "python",
   "nbconvert_exporter": "python",
   "pygments_lexer": "ipython2",
   "version": "2.7.6"
  }
 },
 "nbformat": 4,
 "nbformat_minor": 0
}