{
 "cells": [
  {
   "cell_type": "code",
   "execution_count": 161,
   "metadata": {
    "collapsed": true,
    "pycharm": {
     "name": "#%%\n"
    }
   },
   "outputs": [],
   "source": [
    "import xml.etree.ElementTree as ET\n",
    "from PIL import Image, ImageDraw\n",
    "import os\n",
    "from tqdm import tqdm\n",
    "import zipfile\n",
    "import shutil"
   ]
  },
  {
   "cell_type": "code",
   "execution_count": 162,
   "outputs": [],
   "source": [
    "\"\"\"Распаковываем архив с заданием\"\"\"\n",
    "\n",
    "task_arch = 'Задание2.zip'\n",
    "task = zipfile.ZipFile(task_arch, 'r')\n",
    "path_name = 'Задание2'\n",
    "\n",
    "list_files=list()\n",
    "for name in task.namelist():\n",
    "    dec_name = name.encode('cp437').decode('utf-8')\n",
    "    if dec_name.startswith(path_name):\n",
    "        list_files.append(name)\n",
    "        task.extract(name)\n",
    "        os.rename(name, dec_name)\n",
    "\n",
    "shutil.rmtree(list_files[0], ignore_errors=False, onerror=None)"
   ],
   "metadata": {
    "collapsed": false,
    "pycharm": {
     "name": "#%%\n"
    }
   }
  },
  {
   "cell_type": "code",
   "execution_count": 163,
   "outputs": [],
   "source": [
    "\"\"\"Подготовка к обработке xml файла\"\"\"\n",
    "\n",
    "tree = ET.parse('Задание2/masks.xml')\n",
    "root = tree.getroot()\n",
    "\n",
    "\"\"\"Директории для результатов выполнения\"\"\"\n",
    "\n",
    "result_masks_directory = 'result/masks/'\n",
    "result_photos_directory = 'result/images/'"
   ],
   "metadata": {
    "collapsed": false,
    "pycharm": {
     "name": "#%%\n"
    }
   }
  },
  {
   "cell_type": "code",
   "execution_count": 164,
   "outputs": [
    {
     "name": "stderr",
     "output_type": "stream",
     "text": [
      "100%|██████████| 8/8 [00:09<00:00,  1.14s/it]\n"
     ]
    }
   ],
   "source": [
    "image_list = []\n",
    "for elem in root.findall('image'):\n",
    "    image_list.append(elem)\n",
    "\n",
    "for i in tqdm(range(len(image_list))):\n",
    "    picture = f'Задание2/images/{image_list[i].get(\"name\").split(\"/\")[-1]}'\n",
    "\n",
    "    \"\"\"Создаем маски\"\"\"\n",
    "\n",
    "    with Image.open(picture) as mask_img:\n",
    "        mask_img.load()\n",
    "        mask_img = Image.new('RGB', mask_img.size, (0, 0, 0))\n",
    "        draw = ImageDraw.Draw(mask_img)\n",
    "        for item in range(len(image_list[i])):\n",
    "            subelem = image_list[i][item]\n",
    "            if subelem.get('label') != 'Ignore':\n",
    "                points = subelem.get('points').split(';')\n",
    "                points = [(float(x), float(y)) for x, y in (point.split(',') for point in points)]\n",
    "                draw.polygon(points, fill='magenta')\n",
    "            else:\n",
    "                points = subelem.get('points').split(';')\n",
    "                points = [(float(x), float(y)) for x, y in (point.split(',') for point in points)]\n",
    "                draw.polygon(points, fill='black')\n",
    "            if not os.path.exists(result_masks_directory):\n",
    "                os.makedirs(result_masks_directory)\n",
    "            mask_img.save(f'{result_masks_directory}mask_{image_list[i].get(\"name\").split(\"/\")[-1]}.png')\n",
    "\n",
    "    \"\"\"Добавляем маски на оригинал фото\"\"\"\n",
    "\n",
    "    with Image.open(picture) as photo:\n",
    "        photo.load()\n",
    "        mask_img = mask_img.convert('RGBA')\n",
    "        black_pixels = mask_img.load()\n",
    "        width, height = mask_img.size\n",
    "        for y in range(height):\n",
    "            for x in range(width):\n",
    "                if black_pixels[x, y] == (0, 0, 0, 255):\n",
    "                    black_pixels[x, y] = (0, 0, 0, 0)\n",
    "        photo.paste(mask_img, (0, 0), mask_img)\n",
    "        if not os.path.exists(result_photos_directory):\n",
    "            os.makedirs(result_photos_directory)\n",
    "        photo.save(f'{result_photos_directory}photo_{image_list[i].get(\"name\").split(\"/\")[-1]}.png')"
   ],
   "metadata": {
    "collapsed": false,
    "pycharm": {
     "name": "#%%\n"
    }
   }
  },
  {
   "cell_type": "code",
   "execution_count": 165,
   "outputs": [],
   "source": [
    "\"\"\"Добавляем результат в архив\"\"\"\n",
    "\n",
    "result = zipfile.ZipFile('result.zip', 'w')\n",
    "for root, dirs, files in os.walk('result'):\n",
    "    for file in files:\n",
    "        result.write(os.path.join(root, file))\n",
    "result.close()"
   ],
   "metadata": {
    "collapsed": false,
    "pycharm": {
     "name": "#%%\n"
    }
   }
  },
  {
   "cell_type": "code",
   "execution_count": 166,
   "outputs": [],
   "source": [
    "\"\"\"Удаляем созданные для работы директории\"\"\"\n",
    "\n",
    "shutil.rmtree('result', ignore_errors=False, onerror=None)\n",
    "shutil.rmtree('Задание2', ignore_errors=False, onerror=None)"
   ],
   "metadata": {
    "collapsed": false,
    "pycharm": {
     "name": "#%%\n"
    }
   }
  }
 ],
 "metadata": {
  "kernelspec": {
   "display_name": "Python 3",
   "language": "python",
   "name": "python3"
  },
  "language_info": {
   "codemirror_mode": {
    "name": "ipython",
    "version": 2
   },
   "file_extension": ".py",
   "mimetype": "text/x-python",
   "name": "python",
   "nbconvert_exporter": "python",
   "pygments_lexer": "ipython2",
   "version": "2.7.6"
  }
 },
 "nbformat": 4,
 "nbformat_minor": 0
}